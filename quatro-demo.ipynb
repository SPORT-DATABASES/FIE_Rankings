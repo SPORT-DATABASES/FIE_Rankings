{
  "cells": [
    {
      "cell_type": "raw",
      "metadata": {},
      "source": [
        "---\n",
        "title: \"Fencing Rankings Report\"\n",
        "author: \"Your Name\"\n",
        "format: \n",
        "  pdf:\n",
        "    output-file: report.pdf\n",
        "params:\n",
        "  country: \"All\"\n",
        "execute:\n",
        "  echo: false\n",
        "  warning: false\n",
        "  message: false\n",
        "---"
      ],
      "id": "518e1813"
    },
    {
      "cell_type": "code",
      "metadata": {},
      "source": [
        "import pandas as pd\n",
        "from datetime import datetime\n",
        "\n",
        "# Parameters\n",
        "country = [\"QATAR\", \"UNITED ARAB EMIRATES\"]\n",
        "\n",
        "# Load the data\n",
        "rankings_df = pd.read_csv(\"Ranking_data.csv\")\n",
        "\n",
        "# Filter by country if specified\n",
        "if country != \"All\":\n",
        "    rankings_df = rankings_df[rankings_df['Country'] == country]\n",
        "\n",
        "# Generate summary table\n",
        "rankings_df = rankings_df[['Name', 'Rank', 'Points', 'Gender', 'Level', 'Weapon', 'Type']].drop_duplicates()\n",
        "\n",
        "# Split into individuals and teams\n",
        "individuals_df = rankings_df[rankings_df['Type'] == 'Individual']\n",
        "teams_df = rankings_df[rankings_df['Type'] == 'Team']\n",
        "\n",
        "# Sort the DataFrames: Men first, then Women; Seniors first, then Juniors\n",
        "for df in [individuals_df, teams_df]:\n",
        "    df['Gender'] = pd.Categorical(df['Gender'], categories=['Men', 'Women'], ordered=True)\n",
        "    df['Level'] = pd.Categorical(df['Level'], categories=['Senior', 'Junior'], ordered=True)\n",
        "    df.sort_values(by=['Gender', 'Level', 'Weapon'], inplace=True)\n",
        "\n",
        "# Get the current date\n",
        "update_date = datetime.now().strftime('%Y-%m-%d')\n",
        "\n",
        "# Helper function to create markdown tables\n",
        "def df_to_markdown_table(df):\n",
        "    return df.to_markdown(index=False)\n",
        "\n",
        "individual_tables = []\n",
        "for (gender, level, weapon), group in individuals_df.groupby(['Gender', 'Level', 'Weapon'], observed=True):\n",
        "    title = f\"### {weapon} - {gender} - {level}\"\n",
        "    table = df_to_markdown_table(group[['Name', 'Rank', 'Points', 'Level', 'Weapon']])\n",
        "    individual_tables.append((title, table))\n",
        "\n",
        "team_tables = []\n",
        "for (gender, level, weapon), group in teams_df.groupby(['Gender', 'Level', 'Weapon'], observed=True):\n",
        "    title = f\"### {weapon} - {gender} - {level}\"\n",
        "    table = df_to_markdown_table(group[['Name', 'Rank', 'Points', 'Level', 'Weapon']])\n",
        "    team_tables.append((title, table))"
      ],
      "id": "2fd7fc49",
      "execution_count": null,
      "outputs": []
    },
    {
      "cell_type": "markdown",
      "metadata": {},
      "source": [
        "## Individual Report\n"
      ],
      "id": "765f41ef"
    },
    {
      "cell_type": "code",
      "metadata": {},
      "source": [
        "from IPython.display import display, Markdown\n",
        "\n",
        "for title, table in individual_tables:\n",
        "    display(Markdown(title))\n",
        "    display(Markdown(table))"
      ],
      "id": "a04ff5ba",
      "execution_count": null,
      "outputs": []
    },
    {
      "cell_type": "markdown",
      "metadata": {},
      "source": [
        "## Team Reports\n"
      ],
      "id": "816295f0"
    },
    {
      "cell_type": "code",
      "metadata": {},
      "source": [
        "from IPython.display import display, Markdown\n",
        "\n",
        "for title, table in team_tables:\n",
        "    display(Markdown(title))\n",
        "    display(Markdown(table))"
      ],
      "id": "f8ccad61",
      "execution_count": null,
      "outputs": []
    }
  ],
  "metadata": {
    "kernelspec": {
      "name": "python3",
      "language": "python",
      "display_name": "Python 3 (ipykernel)"
    }
  },
  "nbformat": 4,
  "nbformat_minor": 5
}